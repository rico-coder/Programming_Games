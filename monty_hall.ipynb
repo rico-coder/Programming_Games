{
 "cells": [
  {
   "cell_type": "code",
   "execution_count": 66,
   "metadata": {},
   "outputs": [
    {
     "name": "stdout",
     "output_type": "stream",
     "text": [
      "Du hast Tor 3 gewählt\n",
      "Ich öffne Tor  1\n",
      "Du öffnest Tor 2\n",
      "Du hast gewonnen!\n",
      "[0, 1, 0]\n"
     ]
    }
   ],
   "source": [
    "import random\n",
    "\n",
    "profit = random.randint(0,2)\n",
    "first_guess = input (\"Welche Tür wählst du? (1, 2, 3)\")\n",
    "print(f\"Du hast Tor {first_guess} gewählt\")\n",
    "first_guess = int(first_guess) - 1 \n",
    "doors = [0,0,0]\n",
    "doors[profit] = 1\n",
    "\n",
    "def play():\n",
    "    \n",
    "    monty_choice_possibilities = []\n",
    "    for i in range(3):\n",
    "        if doors[i] != 1 and i!= first_guess:\n",
    "            monty_choice_possibilities.append(i)\n",
    "\n",
    "    monty_choice = random.choice(monty_choice_possibilities)\n",
    "    print(\"Ich öffne Tor \",monty_choice +1)\n",
    "    change_guess = input(\"Willst du wechseln? (ja/nein)\")\n",
    "    if change_guess == \"nein\":\n",
    "        if first_guess == profit:\n",
    "            print(\"Du hast gewonnen!\")\n",
    "        else:\n",
    "            print(\"Du hast verloren.\")\n",
    "\n",
    "    if change_guess == \"ja\":\n",
    "        for i in range(3):\n",
    "            if i != first_guess and i != monty_choice:\n",
    "                second_guess = i\n",
    "        print(f\"Du öffnest Tor {second_guess +1}\")\n",
    "        if second_guess == profit:\n",
    "            print(\"Du hast gewonnen!\")\n",
    "        else:\n",
    "            print(\"Du hast verloren.\")\n",
    "        \n",
    "    print(doors)\n",
    "\n",
    "    \n",
    "play()"
   ]
  },
  {
   "cell_type": "code",
   "execution_count": 16,
   "metadata": {},
   "outputs": [
    {
     "name": "stdout",
     "output_type": "stream",
     "text": [
      "1000000\n",
      "33.3349 % win chance\n"
     ]
    }
   ],
   "source": [
    "import random\n",
    "counter = 0\n",
    "Win = 0\n",
    "\n",
    "while counter < 1000000: \n",
    "    profit = random.randint(0,2)\n",
    "    first_guess = random.randint(1,3)\n",
    "    first_guess = int(first_guess) - 1 \n",
    "    doors = [0,0,0]\n",
    "    doors[profit] = 1\n",
    "    counter +=1\n",
    "        \n",
    "    if first_guess == profit:\n",
    "        Win +=1\n",
    "\n",
    "\n",
    "\n",
    "\n",
    "print(counter)\n",
    "print(Win/counter*100,\"% win chance\")   "
   ]
  },
  {
   "cell_type": "code",
   "execution_count": 15,
   "metadata": {},
   "outputs": [
    {
     "name": "stdout",
     "output_type": "stream",
     "text": [
      "1000000\n",
      "66.7309 % win chance\n"
     ]
    }
   ],
   "source": [
    "import random\n",
    "counter = 0\n",
    "Win = 0\n",
    "\n",
    "while counter < 1000000:\n",
    "    profit = random.randint(0,2)\n",
    "    first_guess = random.randint(1,3)\n",
    "    first_guess = int(first_guess) - 1 \n",
    "    doors = [0,0,0]\n",
    "    doors[profit] = 1\n",
    "    counter +=1\n",
    "\n",
    "    monty_choice_possibilities = []\n",
    "    for i in range(3):\n",
    "        if doors[i] != 1 and i!= first_guess:\n",
    "            monty_choice_possibilities.append(i)\n",
    "\n",
    "    monty_choice = random.choice(monty_choice_possibilities)\n",
    "\n",
    "    for i in range(3):\n",
    "        if i != first_guess and i != monty_choice:\n",
    "            second_guess = i\n",
    "    if second_guess == profit:\n",
    "        Win +=1\n",
    "                \n",
    "print(counter)\n",
    "print(Win/counter*100,\"% win chance\")\n"
   ]
  },
  {
   "cell_type": "code",
   "execution_count": 1,
   "metadata": {},
   "outputs": [
    {
     "name": "stdout",
     "output_type": "stream",
     "text": [
      "66.69337553334267 % win with change\n",
      "33.385251302941356 % win without change\n"
     ]
    }
   ],
   "source": [
    "import random\n",
    "counter_whit_change = 0\n",
    "counter_whitout_change = 0\n",
    "Win_change = 0\n",
    "Win_no_change = 0\n",
    "\n",
    "while (counter_whitout_change + counter_whit_change) < 100000: \n",
    "    profit = random.randint(0,2)\n",
    "    first_guess = random.randint(1,3)\n",
    "    first_guess = int(first_guess) - 1 \n",
    "    doors = [0,0,0]\n",
    "    doors[profit] = 1\n",
    "    change_or_not = random.randint(0,1)\n",
    "\n",
    "    if change_or_not == 0:\n",
    "        counter_whitout_change +=1\n",
    "        if first_guess == profit:\n",
    "            Win_no_change +=1\n",
    "    else:\n",
    "        counter_whit_change +=1\n",
    "        monty_choice_possibilities = []\n",
    "        for i in range(3):\n",
    "            if doors[i] != 1 and i!= first_guess:\n",
    "                monty_choice_possibilities.append(i)\n",
    "\n",
    "        monty_choice = random.choice(monty_choice_possibilities)\n",
    "\n",
    "        for i in range(3):\n",
    "            if i != first_guess and i != monty_choice:\n",
    "                second_guess = i\n",
    "        if second_guess == profit:\n",
    "            Win_change +=1\n",
    "\n",
    "\n",
    "print(Win_change/counter_whit_change*100,\"% win with change\")\n",
    "print(Win_no_change/counter_whitout_change*100,\"% win without change\")\n",
    "        "
   ]
  }
 ],
 "metadata": {
  "kernelspec": {
   "display_name": "Python 3",
   "language": "python",
   "name": "python3"
  },
  "language_info": {
   "codemirror_mode": {
    "name": "ipython",
    "version": 3
   },
   "file_extension": ".py",
   "mimetype": "text/x-python",
   "name": "python",
   "nbconvert_exporter": "python",
   "pygments_lexer": "ipython3",
   "version": "3.11.5"
  }
 },
 "nbformat": 4,
 "nbformat_minor": 2
}
