{
 "cells": [
  {
   "cell_type": "code",
   "execution_count": 3,
   "metadata": {},
   "outputs": [
    {
     "name": "stdout",
     "output_type": "stream",
     "text": [
      "Guess the Number\n",
      "Ich denke mir eine Zahl zwischen 1 und 100 aus.\n",
      "Errate diese Zahl indem du eine eingibst.\n",
      "Ich sage dir dann ob meine Zahl tiefer oder höher ist.\n",
      "Lets go!\n",
      "50\n",
      "Meine Zahl liegt tiefer.\n",
      "Meine Zahl liegt höher\n",
      "Meine Zahl liegt tiefer.\n",
      "Meine Zahl liegt höher\n",
      "Meine Zahl liegt höher\n",
      "Du hast die Zahl 29 in 5 Versuchen erraten\n"
     ]
    }
   ],
   "source": [
    "import random\n",
    "\n",
    "print(\"Guess the Number\")\n",
    "print(\"Ich denke mir eine Zahl zwischen 1 und 100 aus.\")\n",
    "print(\"Errate diese Zahl indem du eine eingibst.\")\n",
    "print(\"Ich sage dir dann ob meine Zahl tiefer oder höher ist.\")\n",
    "print(\"Lets go!\")\n",
    "\n",
    "def play():\n",
    "    while True:\n",
    "        number_to_guess = random.randint(1,100)\n",
    "        guess = input(\"Wähle eine Zahl zwischen 1 und 100\")\n",
    "        print(guess)\n",
    "        guess = int(guess)\n",
    "        attempts = 0\n",
    "    \n",
    "\n",
    "        while guess != number_to_guess:\n",
    "            attempts += 1\n",
    "\n",
    "            if guess > number_to_guess:\n",
    "                print(\"Meine Zahl liegt tiefer.\")\n",
    "                guess = input(\"Gebe eine andere Zahl ein.\")\n",
    "                guess = int(guess)\n",
    "                \n",
    "            elif guess < number_to_guess:\n",
    "                print(\"Meine Zahl liegt höher\")\n",
    "                guess = input(\"Gebe eine andere Zahl ein.\")\n",
    "                guess = int(guess)\n",
    "                \n",
    "\n",
    "                \n",
    "        print(f\"Du hast die Zahl {number_to_guess} in {attempts} Versuchen erraten\")\n",
    "        break\n",
    "        \n",
    "\n",
    "    \n",
    "play()\n",
    "\n"
   ]
  }
 ],
 "metadata": {
  "kernelspec": {
   "display_name": "Python 3",
   "language": "python",
   "name": "python3"
  },
  "language_info": {
   "codemirror_mode": {
    "name": "ipython",
    "version": 3
   },
   "file_extension": ".py",
   "mimetype": "text/x-python",
   "name": "python",
   "nbconvert_exporter": "python",
   "pygments_lexer": "ipython3",
   "version": "3.11.5"
  }
 },
 "nbformat": 4,
 "nbformat_minor": 2
}
